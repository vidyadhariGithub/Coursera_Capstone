{
 "cells": [
  {
   "cell_type": "markdown",
   "metadata": {},
   "source": [
    "# Predicting the ideal suburb for property purchase"
   ]
  },
  {
   "cell_type": "markdown",
   "metadata": {},
   "source": [
    "### Business Problem"
   ]
  },
  {
   "cell_type": "markdown",
   "metadata": {},
   "source": [
    "#### This capstone project is inspired by the idea of extracting the region where a house/apartment purchase can lead to maximum annual revenue for the owner through rental bonds. This project also explores the chosen datasets by summarizing the features of such a home. It analyses existing data of homes in Sydney suburbs and decides on an ideal suburb."
   ]
  },
  {
   "cell_type": "markdown",
   "metadata": {},
   "source": [
    "#### Necessary libraries installation"
   ]
  },
  {
   "cell_type": "code",
   "execution_count": 1,
   "metadata": {},
   "outputs": [],
   "source": [
    "import pandas as pd\n",
    "from requests import get\n",
    "import numpy as np"
   ]
  },
  {
   "cell_type": "code",
   "execution_count": 2,
   "metadata": {},
   "outputs": [
    {
     "name": "stdout",
     "output_type": "stream",
     "text": [
      "Requirement already satisfied: lxml in /home/jupyterlab/.local/lib/python3.6/site-packages (4.6.2)\n"
     ]
    }
   ],
   "source": [
    "!pip install lxml --user"
   ]
  },
  {
   "cell_type": "code",
   "execution_count": 3,
   "metadata": {},
   "outputs": [
    {
     "name": "stdout",
     "output_type": "stream",
     "text": [
      "Requirement already satisfied: beautifulsoup4 in /home/jupyterlab/.local/lib/python3.6/site-packages (4.9.3)\n",
      "Requirement already satisfied: soupsieve>1.2; python_version >= \"3.0\" in /home/jupyterlab/.local/lib/python3.6/site-packages (from beautifulsoup4) (2.1)\n"
     ]
    }
   ],
   "source": [
    "!pip install beautifulsoup4 --user"
   ]
  },
  {
   "cell_type": "markdown",
   "metadata": {},
   "source": [
    "# Data collection and wrangling\n",
    "#### In this step, we will prepare our final dataset (dataframe) for analysis"
   ]
  },
  {
   "cell_type": "markdown",
   "metadata": {},
   "source": [
    "#### Get Sydney suburbs list"
   ]
  },
  {
   "cell_type": "code",
   "execution_count": 12,
   "metadata": {},
   "outputs": [
    {
     "name": "stdout",
     "output_type": "stream",
     "text": [
      "Only suburbs table size :  (710, 1)\n"
     ]
    },
    {
     "data": {
      "text/html": [
       "<div>\n",
       "<style scoped>\n",
       "    .dataframe tbody tr th:only-of-type {\n",
       "        vertical-align: middle;\n",
       "    }\n",
       "\n",
       "    .dataframe tbody tr th {\n",
       "        vertical-align: top;\n",
       "    }\n",
       "\n",
       "    .dataframe thead th {\n",
       "        text-align: right;\n",
       "    }\n",
       "</style>\n",
       "<table border=\"1\" class=\"dataframe\">\n",
       "  <thead>\n",
       "    <tr style=\"text-align: right;\">\n",
       "      <th></th>\n",
       "      <th>Suburb</th>\n",
       "    </tr>\n",
       "  </thead>\n",
       "  <tbody>\n",
       "    <tr>\n",
       "      <th>0</th>\n",
       "      <td>abbotsbury</td>\n",
       "    </tr>\n",
       "    <tr>\n",
       "      <th>1</th>\n",
       "      <td>abbotsford</td>\n",
       "    </tr>\n",
       "    <tr>\n",
       "      <th>2</th>\n",
       "      <td>acacia gardens</td>\n",
       "    </tr>\n",
       "    <tr>\n",
       "      <th>3</th>\n",
       "      <td>agnes banks</td>\n",
       "    </tr>\n",
       "    <tr>\n",
       "      <th>4</th>\n",
       "      <td>airds</td>\n",
       "    </tr>\n",
       "  </tbody>\n",
       "</table>\n",
       "</div>"
      ],
      "text/plain": [
       "           Suburb\n",
       "0      abbotsbury\n",
       "1      abbotsford\n",
       "2  acacia gardens\n",
       "3     agnes banks\n",
       "4           airds"
      ]
     },
     "execution_count": 12,
     "metadata": {},
     "output_type": "execute_result"
    }
   ],
   "source": [
    "import requests\n",
    "from bs4 import BeautifulSoup\n",
    "\n",
    "def get_suburbs(url):\n",
    "    response = requests.get(url)\n",
    "    soup = BeautifulSoup(response.text, 'html.parser')\n",
    "    suburb_list = soup.find_all('div', class_=\"mw-category\")[1].find_all('div', class_=\"mw-category-group\")\n",
    "    return suburb_list\n",
    "\n",
    "def get_content(row_link):\n",
    "    li = []\n",
    "    for s in row_link:\n",
    "        for lis in s.find_all('li'):\n",
    "             li.append(lis.get_text())\n",
    "    return li\n",
    "\n",
    "suburbs_list = []\n",
    "li = get_suburbs(\"https://en.wikipedia.org/wiki/Category:Suburbs_of_Sydney\")\n",
    "suburbs_list.append(get_content(li))\n",
    "li = get_suburbs(\"https://en.wikipedia.org/w/index.php?title=Category:Suburbs_of_Sydney&pagefrom=Dharruk%2C+New+South+Wales#mw-pages\")\n",
    "suburbs_list.append(get_content(li))\n",
    "li = get_suburbs(\"https://en.wikipedia.org/w/index.php?title=Category:Suburbs_of_Sydney&pagefrom=Macgraths+Hill%0AMcGraths+Hill%2C+New+South+Wales#mw-pages\")\n",
    "suburbs_list.append(get_content(li))\n",
    "li = get_suburbs(\"https://en.wikipedia.org/w/index.php?title=Category:Suburbs_of_Sydney&pagefrom=Singletons+Mill%2C+New+South+Wales#mw-pages\")\n",
    "suburbs_list.append(get_content(li))\n",
    "\n",
    "suburbs_df = pd.DataFrame(columns=[\"Suburb\"])\n",
    "rowIndex = 0\n",
    "for suburb in suburbs_list:\n",
    "    for s in suburb:\n",
    "        suburnName = s.split(',')\n",
    "        suburbs_df.loc[rowIndex, 'Suburb'] = suburnName[0]\n",
    "        rowIndex=rowIndex+1\n",
    "\n",
    "suburbs_df.drop(suburbs_df.index[0], inplace = True)\n",
    "suburbs_df.reset_index(inplace = True)\n",
    "del suburbs_df['index']\n",
    "suburbs_df_lower = pd.DataFrame(suburbs_df['Suburb'].str.lower())\n",
    "print(\"Only suburbs table size : \", suburbs_df_lower.shape)\n",
    "suburbs_df_lower.head(5)"
   ]
  },
  {
   "cell_type": "markdown",
   "metadata": {},
   "source": [
    "#### Get postcodes and add them to the main dataframe"
   ]
  },
  {
   "cell_type": "code",
   "execution_count": 13,
   "metadata": {},
   "outputs": [
    {
     "name": "stdout",
     "output_type": "stream",
     "text": [
      "Suburbs with post code table size :  (524, 2)\n"
     ]
    },
    {
     "data": {
      "text/html": [
       "<div>\n",
       "<style scoped>\n",
       "    .dataframe tbody tr th:only-of-type {\n",
       "        vertical-align: middle;\n",
       "    }\n",
       "\n",
       "    .dataframe tbody tr th {\n",
       "        vertical-align: top;\n",
       "    }\n",
       "\n",
       "    .dataframe thead th {\n",
       "        text-align: right;\n",
       "    }\n",
       "</style>\n",
       "<table border=\"1\" class=\"dataframe\">\n",
       "  <thead>\n",
       "    <tr style=\"text-align: right;\">\n",
       "      <th></th>\n",
       "      <th>Suburb</th>\n",
       "      <th>PostCode</th>\n",
       "    </tr>\n",
       "  </thead>\n",
       "  <tbody>\n",
       "    <tr>\n",
       "      <th>0</th>\n",
       "      <td>abbotsbury</td>\n",
       "      <td>2176</td>\n",
       "    </tr>\n",
       "    <tr>\n",
       "      <th>1</th>\n",
       "      <td>abbotsford</td>\n",
       "      <td>2046</td>\n",
       "    </tr>\n",
       "    <tr>\n",
       "      <th>2</th>\n",
       "      <td>acacia gardens</td>\n",
       "      <td>2763</td>\n",
       "    </tr>\n",
       "    <tr>\n",
       "      <th>3</th>\n",
       "      <td>airds</td>\n",
       "      <td>2560</td>\n",
       "    </tr>\n",
       "    <tr>\n",
       "      <th>4</th>\n",
       "      <td>alexandria</td>\n",
       "      <td>2015</td>\n",
       "    </tr>\n",
       "  </tbody>\n",
       "</table>\n",
       "</div>"
      ],
      "text/plain": [
       "           Suburb PostCode\n",
       "0      abbotsbury     2176\n",
       "1      abbotsford     2046\n",
       "2  acacia gardens     2763\n",
       "3           airds     2560\n",
       "4      alexandria     2015"
      ]
     },
     "execution_count": 13,
     "metadata": {},
     "output_type": "execute_result"
    }
   ],
   "source": [
    "postCode_df = pd.DataFrame(columns=['PostCode'])\n",
    "suburbs_df_lower = suburbs_df_lower.append(postCode_df) #append postcode column to main dataframe\n",
    "\n",
    "NswSuburbMedianPrice_df = pd.DataFrame(pd.read_csv('NswSuburbMedianPrice2007-2020.csv'))\n",
    "NswSuburbMedianPrice_df['suburb'] = pd.DataFrame(NswSuburbMedianPrice_df['suburb'].str.lower()) #convert suburb column to lowercase\n",
    "for index, row in suburbs_df_lower.iterrows():\n",
    "    suburb = suburbs_df_lower.iloc[index]['Suburb']\n",
    "    l = NswSuburbMedianPrice_df.index[NswSuburbMedianPrice_df['suburb'] == suburb].tolist()\n",
    "    if len(l) != 0:\n",
    "        i = l[0]\n",
    "        suburbs_df_lower.iloc[index]['PostCode'] = NswSuburbMedianPrice_df.iloc[i]['postcode']\n",
    "    \n",
    "suburbs_df_lower = suburbs_df_lower.dropna()\n",
    "print(\"Suburbs with post code table size : \", suburbs_df_lower.shape)\n",
    "suburbs_df_lower = suburbs_df_lower.reset_index(drop = True)\n",
    "suburbs_df_lower.head()"
   ]
  },
  {
   "cell_type": "code",
   "execution_count": 14,
   "metadata": {},
   "outputs": [],
   "source": [
    "#get unit/house\n",
    "from sklearn import preprocessing\n",
    "\n",
    "Postcode_rents_df = pd.DataFrame(pd.read_csv('Postcode_rents.csv'))\n",
    "Postcode_rents_df = Postcode_rents_df[Postcode_rents_df['Dwelling Types'].notna()] #remove rows with dwelling type = NaN\n",
    "types = Postcode_rents_df['Dwelling Types'].unique()\n",
    "type_df = pd.DataFrame(columns=types)\n",
    "\n",
    "#Transform dwelling types to 0,1,2,3,4\n",
    "le_type = preprocessing.LabelEncoder()\n",
    "le_type.fit(['Total', 'House', 'Other', 'Townhouse', 'Flat/Unit'])\n",
    "Postcode_rents_df['Dwelling Types'] = le_type.transform(Postcode_rents_df['Dwelling Types']) "
   ]
  },
  {
   "cell_type": "markdown",
   "metadata": {},
   "source": [
    "#### Add data from Postcode_rents file, this includes FirstQuartileWeeklyRent, PropertyType and others"
   ]
  },
  {
   "cell_type": "code",
   "execution_count": 15,
   "metadata": {},
   "outputs": [
    {
     "name": "stdout",
     "output_type": "stream",
     "text": [
      "Shape before :  (17404, 11)\n"
     ]
    }
   ],
   "source": [
    "df2 = pd.DataFrame(columns=['Suburb', 'PostCode', 'PropertyType', 'NumberOfBeds', 'FirstQuartileWeeklyRent', 'MedianWeeklyRent', 'ThirdQuartileWeeklyRent', 'NewBondsLodged', 'TotalBondsHeld', 'AnnualChangeInNewBonds', 'AnnualChangeInWeeklyRent'])\n",
    "\n",
    "for index, row in suburbs_df_lower.iterrows():\n",
    "    code = suburbs_df_lower.iloc[index]['PostCode']\n",
    "    suburb = suburbs_df_lower.iloc[index]['Suburb']\n",
    "    new_df = pd.DataFrame(Postcode_rents_df.loc[Postcode_rents_df['Postcode'] == code])\n",
    "    new_df = new_df.reset_index()\n",
    "    for index, row in new_df.iterrows():\n",
    "        code = new_df.iloc[index]['Postcode']\n",
    "        dtype = new_df.iloc[index]['Dwelling Types']\n",
    "        beds = new_df.iloc[index]['Number of Bedrooms']\n",
    "        fQrent, mrent, tQrent = new_df.iloc[index]['First Quartile Weekly Rent for New Bonds\\n$'], new_df.iloc[index]['Median Weekly Rent for New Bonds\\n$'], new_df.iloc[index]['Third Quartile Weekly Rent for New Bonds\\n$']\n",
    "        nbonds, tbonds, chgnbonds = new_df.iloc[index]['New Bonds Lodged\\nNo.'], new_df.iloc[index]['Total Bonds Held\\nNo.'], new_df.iloc[index]['Annual change in New Bonds Lodged']\n",
    "        chgrent = new_df.iloc[index]['Annual change in Median Weekly Rent']\n",
    "        new_row = {'Suburb' : suburb,\n",
    "                   'PostCode' : code, \n",
    "                   'PropertyType' : dtype,\n",
    "                   'NumberOfBeds' : beds, \n",
    "                   'FirstQuartileWeeklyRent' : fQrent, \n",
    "                   'MedianWeeklyRent' : mrent, \n",
    "                   'ThirdQuartileWeeklyRent' : tQrent, \n",
    "                   'NewBondsLodged' : nbonds, \n",
    "                   'TotalBondsHeld' : tbonds, \n",
    "                   'AnnualChangeInNewBonds' : chgnbonds, \n",
    "                   'AnnualChangeInWeeklyRent' : chgrent}\n",
    "        df2 = df2.append(new_row, ignore_index = True)\n",
    "    \n",
    "print(\"Shape before : \", df2.shape)        \n",
    "#df2.head(20)"
   ]
  },
  {
   "cell_type": "code",
   "execution_count": 16,
   "metadata": {},
   "outputs": [
    {
     "name": "stdout",
     "output_type": "stream",
     "text": [
      "Shape after :  (6598, 11)\n",
      "Shape after :  (3896, 11)\n"
     ]
    },
    {
     "data": {
      "text/html": [
       "<div>\n",
       "<style scoped>\n",
       "    .dataframe tbody tr th:only-of-type {\n",
       "        vertical-align: middle;\n",
       "    }\n",
       "\n",
       "    .dataframe tbody tr th {\n",
       "        vertical-align: top;\n",
       "    }\n",
       "\n",
       "    .dataframe thead th {\n",
       "        text-align: right;\n",
       "    }\n",
       "</style>\n",
       "<table border=\"1\" class=\"dataframe\">\n",
       "  <thead>\n",
       "    <tr style=\"text-align: right;\">\n",
       "      <th></th>\n",
       "      <th>Suburb</th>\n",
       "      <th>PostCode</th>\n",
       "      <th>PropertyType</th>\n",
       "      <th>NumberOfBeds</th>\n",
       "      <th>FirstQuartileWeeklyRent</th>\n",
       "      <th>MedianWeeklyRent</th>\n",
       "      <th>ThirdQuartileWeeklyRent</th>\n",
       "      <th>NewBondsLodged</th>\n",
       "      <th>TotalBondsHeld</th>\n",
       "      <th>AnnualChangeInNewBonds</th>\n",
       "      <th>AnnualChangeInWeeklyRent</th>\n",
       "    </tr>\n",
       "  </thead>\n",
       "  <tbody>\n",
       "    <tr>\n",
       "      <th>0</th>\n",
       "      <td>abbotsbury</td>\n",
       "      <td>2176</td>\n",
       "      <td>3</td>\n",
       "      <td>Total</td>\n",
       "      <td>420</td>\n",
       "      <td>500</td>\n",
       "      <td>570</td>\n",
       "      <td>133</td>\n",
       "      <td>2,422</td>\n",
       "      <td>-20.83%</td>\n",
       "      <td>2.56%</td>\n",
       "    </tr>\n",
       "    <tr>\n",
       "      <th>1</th>\n",
       "      <td>abbotsbury</td>\n",
       "      <td>2176</td>\n",
       "      <td>3</td>\n",
       "      <td>2 Bedrooms</td>\n",
       "      <td>370</td>\n",
       "      <td>380</td>\n",
       "      <td>400</td>\n",
       "      <td>33</td>\n",
       "      <td>374</td>\n",
       "      <td>-26.67%</td>\n",
       "      <td>-5.00%</td>\n",
       "    </tr>\n",
       "    <tr>\n",
       "      <th>2</th>\n",
       "      <td>abbotsbury</td>\n",
       "      <td>2176</td>\n",
       "      <td>3</td>\n",
       "      <td>3 Bedrooms</td>\n",
       "      <td>480</td>\n",
       "      <td>510</td>\n",
       "      <td>545</td>\n",
       "      <td>58</td>\n",
       "      <td>1241</td>\n",
       "      <td>-10.77%</td>\n",
       "      <td>2.00%</td>\n",
       "    </tr>\n",
       "    <tr>\n",
       "      <th>3</th>\n",
       "      <td>abbotsbury</td>\n",
       "      <td>2176</td>\n",
       "      <td>3</td>\n",
       "      <td>4 or more Bedrooms</td>\n",
       "      <td>570</td>\n",
       "      <td>620</td>\n",
       "      <td>660</td>\n",
       "      <td>32</td>\n",
       "      <td>617</td>\n",
       "      <td>-25.58%</td>\n",
       "      <td>3.33%</td>\n",
       "    </tr>\n",
       "    <tr>\n",
       "      <th>4</th>\n",
       "      <td>abbotsbury</td>\n",
       "      <td>2176</td>\n",
       "      <td>1</td>\n",
       "      <td>Total</td>\n",
       "      <td>485</td>\n",
       "      <td>530</td>\n",
       "      <td>600</td>\n",
       "      <td>89</td>\n",
       "      <td>1659</td>\n",
       "      <td>-9.18%</td>\n",
       "      <td>0.00%</td>\n",
       "    </tr>\n",
       "    <tr>\n",
       "      <th>5</th>\n",
       "      <td>abbotsbury</td>\n",
       "      <td>2176</td>\n",
       "      <td>1</td>\n",
       "      <td>3 Bedrooms</td>\n",
       "      <td>480</td>\n",
       "      <td>500</td>\n",
       "      <td>550</td>\n",
       "      <td>45</td>\n",
       "      <td>955</td>\n",
       "      <td>-8.16%</td>\n",
       "      <td>0.00%</td>\n",
       "    </tr>\n",
       "    <tr>\n",
       "      <th>6</th>\n",
       "      <td>abbotsbury</td>\n",
       "      <td>2176</td>\n",
       "      <td>1</td>\n",
       "      <td>4 or more Bedrooms</td>\n",
       "      <td>570</td>\n",
       "      <td>620</td>\n",
       "      <td>660</td>\n",
       "      <td>31</td>\n",
       "      <td>569</td>\n",
       "      <td>-22.50%</td>\n",
       "      <td>3.33%</td>\n",
       "    </tr>\n",
       "    <tr>\n",
       "      <th>7</th>\n",
       "      <td>abbotsford</td>\n",
       "      <td>2046</td>\n",
       "      <td>3</td>\n",
       "      <td>Total</td>\n",
       "      <td>495</td>\n",
       "      <td>580</td>\n",
       "      <td>700</td>\n",
       "      <td>241</td>\n",
       "      <td>3040</td>\n",
       "      <td>-13.31%</td>\n",
       "      <td>-9.02%</td>\n",
       "    </tr>\n",
       "    <tr>\n",
       "      <th>8</th>\n",
       "      <td>abbotsford</td>\n",
       "      <td>2046</td>\n",
       "      <td>3</td>\n",
       "      <td>1 Bedroom</td>\n",
       "      <td>400</td>\n",
       "      <td>450</td>\n",
       "      <td>500</td>\n",
       "      <td>34</td>\n",
       "      <td>281</td>\n",
       "      <td>30.77%</td>\n",
       "      <td>-7.22%</td>\n",
       "    </tr>\n",
       "    <tr>\n",
       "      <th>9</th>\n",
       "      <td>abbotsford</td>\n",
       "      <td>2046</td>\n",
       "      <td>3</td>\n",
       "      <td>2 Bedrooms</td>\n",
       "      <td>488</td>\n",
       "      <td>565</td>\n",
       "      <td>623</td>\n",
       "      <td>135</td>\n",
       "      <td>1631</td>\n",
       "      <td>-8.78%</td>\n",
       "      <td>-5.83%</td>\n",
       "    </tr>\n",
       "  </tbody>\n",
       "</table>\n",
       "</div>"
      ],
      "text/plain": [
       "       Suburb  PostCode PropertyType        NumberOfBeds  \\\n",
       "0  abbotsbury      2176            3               Total   \n",
       "1  abbotsbury      2176            3          2 Bedrooms   \n",
       "2  abbotsbury      2176            3          3 Bedrooms   \n",
       "3  abbotsbury      2176            3  4 or more Bedrooms   \n",
       "4  abbotsbury      2176            1               Total   \n",
       "5  abbotsbury      2176            1          3 Bedrooms   \n",
       "6  abbotsbury      2176            1  4 or more Bedrooms   \n",
       "7  abbotsford      2046            3               Total   \n",
       "8  abbotsford      2046            3           1 Bedroom   \n",
       "9  abbotsford      2046            3          2 Bedrooms   \n",
       "\n",
       "  FirstQuartileWeeklyRent MedianWeeklyRent ThirdQuartileWeeklyRent  \\\n",
       "0                     420              500                     570   \n",
       "1                     370              380                     400   \n",
       "2                     480              510                     545   \n",
       "3                     570              620                     660   \n",
       "4                     485              530                     600   \n",
       "5                     480              500                     550   \n",
       "6                     570              620                     660   \n",
       "7                     495              580                     700   \n",
       "8                     400              450                     500   \n",
       "9                     488              565                     623   \n",
       "\n",
       "  NewBondsLodged TotalBondsHeld AnnualChangeInNewBonds  \\\n",
       "0            133          2,422                -20.83%   \n",
       "1             33            374                -26.67%   \n",
       "2             58           1241                -10.77%   \n",
       "3             32            617                -25.58%   \n",
       "4             89           1659                 -9.18%   \n",
       "5             45            955                 -8.16%   \n",
       "6             31            569                -22.50%   \n",
       "7            241           3040                -13.31%   \n",
       "8             34            281                 30.77%   \n",
       "9            135           1631                 -8.78%   \n",
       "\n",
       "  AnnualChangeInWeeklyRent  \n",
       "0                    2.56%  \n",
       "1                   -5.00%  \n",
       "2                    2.00%  \n",
       "3                    3.33%  \n",
       "4                    0.00%  \n",
       "5                    0.00%  \n",
       "6                    3.33%  \n",
       "7                   -9.02%  \n",
       "8                   -7.22%  \n",
       "9                   -5.83%  "
      ]
     },
     "execution_count": 16,
     "metadata": {},
     "output_type": "execute_result"
    }
   ],
   "source": [
    "#remove empty or null value rows\n",
    "df2 = df2[df2.FirstQuartileWeeklyRent.apply(lambda x: x.isnumeric())]\n",
    "print(\"Shape after : \", df2.shape)\n",
    "df2 = df2[df2.NewBondsLodged.apply(lambda x: x.isnumeric())]\n",
    "print(\"Shape after : \", df2.shape)\n",
    "df2['PostCode'] = df2['PostCode'].astype(np.int64)\n",
    "df2 = df2.reset_index(drop=True)\n",
    "df2.head(10)"
   ]
  },
  {
   "cell_type": "markdown",
   "metadata": {},
   "source": [
    "#### Get train station (if present) in each suburb"
   ]
  },
  {
   "cell_type": "code",
   "execution_count": 17,
   "metadata": {},
   "outputs": [],
   "source": [
    "url = \"https://en.wikipedia.org/wiki/List_of_Sydney_Trains_railway_stations\"\n",
    "df_list = pd.read_html(url)\n",
    "df = pd.DataFrame(df_list[1])\n",
    "trainStation_list = df['Name'].str.lower().tolist()\n",
    "\n",
    "trains_column = pd.DataFrame(columns=['TrainStationPresent'])\n",
    "df2 = df2.append(trains_column)\n",
    "for index, row in df2.iterrows():\n",
    "    suburb = df2.iloc[index]['Suburb']\n",
    "    if df2.iloc[index]['Suburb'] in trainStation_list:\n",
    "        df2.loc[df2['Suburb'] == suburb, 'TrainStationPresent'] = 1\n",
    "        #df2.iloc[index]['TrainStationPresent'] = 1\n",
    "    else:\n",
    "        df2.loc[df2['Suburb'] == suburb, 'TrainStationPresent'] = 0\n",
    "        \n",
    "df2.to_csv (r'trainstation_dataframe.csv', index = False, header=True)"
   ]
  },
  {
   "cell_type": "code",
   "execution_count": 13,
   "metadata": {},
   "outputs": [],
   "source": [
    "df2.to_csv (r'supermarkets_dataframe.csv', index = False, header=True)"
   ]
  },
  {
   "cell_type": "code",
   "execution_count": 18,
   "metadata": {},
   "outputs": [],
   "source": [
    "df2['AnnualChangeInWeeklyRent'] = df2['AnnualChangeInWeeklyRent'].str.strip('%')\n",
    "df2['AnnualChangeInWeeklyRent'] = df2['AnnualChangeInWeeklyRent'].apply(lambda x: float(x))\n",
    "#df2['AnnualChangeInWeeklyRent'] = float(df2['AnnualChangeInWeeklyRent'])/100.0"
   ]
  },
  {
   "cell_type": "code",
   "execution_count": 19,
   "metadata": {},
   "outputs": [],
   "source": [
    "df2.to_csv (r'final_dataframe.csv', index = False, header=True)"
   ]
  },
  {
   "cell_type": "code",
   "execution_count": 20,
   "metadata": {},
   "outputs": [
    {
     "name": "stdout",
     "output_type": "stream",
     "text": [
      "Shape of final dataset :  (3896, 12)\n"
     ]
    },
    {
     "data": {
      "text/html": [
       "<div>\n",
       "<style scoped>\n",
       "    .dataframe tbody tr th:only-of-type {\n",
       "        vertical-align: middle;\n",
       "    }\n",
       "\n",
       "    .dataframe tbody tr th {\n",
       "        vertical-align: top;\n",
       "    }\n",
       "\n",
       "    .dataframe thead th {\n",
       "        text-align: right;\n",
       "    }\n",
       "</style>\n",
       "<table border=\"1\" class=\"dataframe\">\n",
       "  <thead>\n",
       "    <tr style=\"text-align: right;\">\n",
       "      <th></th>\n",
       "      <th>Suburb</th>\n",
       "      <th>PostCode</th>\n",
       "      <th>PropertyType</th>\n",
       "      <th>NumberOfBeds</th>\n",
       "      <th>FirstQuartileWeeklyRent</th>\n",
       "      <th>MedianWeeklyRent</th>\n",
       "      <th>ThirdQuartileWeeklyRent</th>\n",
       "      <th>NewBondsLodged</th>\n",
       "      <th>TotalBondsHeld</th>\n",
       "      <th>AnnualChangeInNewBonds</th>\n",
       "      <th>AnnualChangeInWeeklyRent</th>\n",
       "      <th>TrainStationPresent</th>\n",
       "    </tr>\n",
       "  </thead>\n",
       "  <tbody>\n",
       "    <tr>\n",
       "      <th>0</th>\n",
       "      <td>abbotsbury</td>\n",
       "      <td>2176</td>\n",
       "      <td>3</td>\n",
       "      <td>Total</td>\n",
       "      <td>420</td>\n",
       "      <td>500</td>\n",
       "      <td>570</td>\n",
       "      <td>133</td>\n",
       "      <td>2,422</td>\n",
       "      <td>-20.83%</td>\n",
       "      <td>2.56</td>\n",
       "      <td>0</td>\n",
       "    </tr>\n",
       "    <tr>\n",
       "      <th>1</th>\n",
       "      <td>abbotsbury</td>\n",
       "      <td>2176</td>\n",
       "      <td>3</td>\n",
       "      <td>2 Bedrooms</td>\n",
       "      <td>370</td>\n",
       "      <td>380</td>\n",
       "      <td>400</td>\n",
       "      <td>33</td>\n",
       "      <td>374</td>\n",
       "      <td>-26.67%</td>\n",
       "      <td>-5.00</td>\n",
       "      <td>0</td>\n",
       "    </tr>\n",
       "    <tr>\n",
       "      <th>2</th>\n",
       "      <td>abbotsbury</td>\n",
       "      <td>2176</td>\n",
       "      <td>3</td>\n",
       "      <td>3 Bedrooms</td>\n",
       "      <td>480</td>\n",
       "      <td>510</td>\n",
       "      <td>545</td>\n",
       "      <td>58</td>\n",
       "      <td>1241</td>\n",
       "      <td>-10.77%</td>\n",
       "      <td>2.00</td>\n",
       "      <td>0</td>\n",
       "    </tr>\n",
       "    <tr>\n",
       "      <th>3</th>\n",
       "      <td>abbotsbury</td>\n",
       "      <td>2176</td>\n",
       "      <td>3</td>\n",
       "      <td>4 or more Bedrooms</td>\n",
       "      <td>570</td>\n",
       "      <td>620</td>\n",
       "      <td>660</td>\n",
       "      <td>32</td>\n",
       "      <td>617</td>\n",
       "      <td>-25.58%</td>\n",
       "      <td>3.33</td>\n",
       "      <td>0</td>\n",
       "    </tr>\n",
       "    <tr>\n",
       "      <th>4</th>\n",
       "      <td>abbotsbury</td>\n",
       "      <td>2176</td>\n",
       "      <td>1</td>\n",
       "      <td>Total</td>\n",
       "      <td>485</td>\n",
       "      <td>530</td>\n",
       "      <td>600</td>\n",
       "      <td>89</td>\n",
       "      <td>1659</td>\n",
       "      <td>-9.18%</td>\n",
       "      <td>0.00</td>\n",
       "      <td>0</td>\n",
       "    </tr>\n",
       "  </tbody>\n",
       "</table>\n",
       "</div>"
      ],
      "text/plain": [
       "       Suburb  PostCode PropertyType        NumberOfBeds  \\\n",
       "0  abbotsbury      2176            3               Total   \n",
       "1  abbotsbury      2176            3          2 Bedrooms   \n",
       "2  abbotsbury      2176            3          3 Bedrooms   \n",
       "3  abbotsbury      2176            3  4 or more Bedrooms   \n",
       "4  abbotsbury      2176            1               Total   \n",
       "\n",
       "  FirstQuartileWeeklyRent MedianWeeklyRent ThirdQuartileWeeklyRent  \\\n",
       "0                     420              500                     570   \n",
       "1                     370              380                     400   \n",
       "2                     480              510                     545   \n",
       "3                     570              620                     660   \n",
       "4                     485              530                     600   \n",
       "\n",
       "  NewBondsLodged TotalBondsHeld AnnualChangeInNewBonds  \\\n",
       "0            133          2,422                -20.83%   \n",
       "1             33            374                -26.67%   \n",
       "2             58           1241                -10.77%   \n",
       "3             32            617                -25.58%   \n",
       "4             89           1659                 -9.18%   \n",
       "\n",
       "   AnnualChangeInWeeklyRent  TrainStationPresent  \n",
       "0                      2.56                    0  \n",
       "1                     -5.00                    0  \n",
       "2                      2.00                    0  \n",
       "3                      3.33                    0  \n",
       "4                      0.00                    0  "
      ]
     },
     "execution_count": 20,
     "metadata": {},
     "output_type": "execute_result"
    }
   ],
   "source": [
    "#df2['Woolworths'].fillna(0, inplace=True)\n",
    "#df2['Coles'].fillna(0, inplace=True)\n",
    "df2['PostCode'] = df2['PostCode'].astype(np.int64)\n",
    "df2['TrainStationPresent'] = df2['TrainStationPresent'].astype(np.int64)\n",
    "print(\"Shape of final dataset : \", df2.shape)\n",
    "df2.head(5)"
   ]
  },
  {
   "cell_type": "markdown",
   "metadata": {},
   "source": [
    "# Data Visualization/Exploratory Data Analysis\n",
    "We will analyze the final dataset formed by plotting the relationship between different columns"
   ]
  },
  {
   "cell_type": "markdown",
   "metadata": {},
   "source": [
    "#### Let's display a Box plot of first, median and third quartile weekly rent"
   ]
  },
  {
   "cell_type": "code",
   "execution_count": 21,
   "metadata": {},
   "outputs": [
    {
     "name": "stdout",
     "output_type": "stream",
     "text": [
      "Median for FirstQuartileWeeklyRent : 443.88\n",
      "Median for MedianWeeklyRent : 504.71\n",
      "Median for ThirdQuartileWeeklyRent : 569.29\n",
      "\n",
      "75th percentile for FirstQuartileWeeklyRent : 509.44\n",
      "75th percentile for MedianWeeklyRent : 585.62\n",
      "75th percentile for ThirdQuartileWeeklyRent : 694.86\n",
      "\n"
     ]
    },
    {
     "data": {
      "image/png": "[encoded data removed]",
      "text/plain": [
       "<Figure size 1440x432 with 3 Axes>"
      ]
     },
     "metadata": {
      "needs_background": "light"
     },
     "output_type": "display_data"
    }
   ],
   "source": [
    "import matplotlib.pyplot as plt\n",
    "\n",
    "df3 = pd.DataFrame(columns=['Suburb', 'FirstQuartileWeeklyRent', 'MedianWeeklyRent', 'ThirdQuartileWeeklyRent'])\n",
    "df2['FirstQuartileWeeklyRent'] = df2['FirstQuartileWeeklyRent'].replace(',','', regex=True)\n",
    "df2['FirstQuartileWeeklyRent'] = df2['FirstQuartileWeeklyRent'].astype(np.int64)\n",
    "df2['MedianWeeklyRent'] = df2['MedianWeeklyRent'].replace(',','', regex=True)\n",
    "df2['MedianWeeklyRent'] = df2['MedianWeeklyRent'].astype(np.int64)\n",
    "df2['ThirdQuartileWeeklyRent'] = df2['ThirdQuartileWeeklyRent'].replace(',','', regex=True)\n",
    "df2['ThirdQuartileWeeklyRent'] = df2['ThirdQuartileWeeklyRent'].astype(np.int64)\n",
    "\n",
    "for index, row in df2.iterrows():\n",
    "    suburb = df2.iloc[index]['Suburb']\n",
    "    first = df2.loc[df2['Suburb'] == suburb, 'FirstQuartileWeeklyRent'].mean()\n",
    "    median = df2.loc[df2['Suburb'] == suburb, 'MedianWeeklyRent'].mean()\n",
    "    third = df2.loc[df2['Suburb'] == suburb, 'ThirdQuartileWeeklyRent'].mean()\n",
    "    new_row = {'Suburb' : suburb,\n",
    "                   'FirstQuartileWeeklyRent' : first, \n",
    "                   'MedianWeeklyRent' : median,\n",
    "                   'ThirdQuartileWeeklyRent' : third}\n",
    "    df3 = df3.append(new_row, ignore_index = True)\n",
    "\n",
    "fig = plt.figure()\n",
    "ax0 = fig.add_subplot(1,3,1)\n",
    "ax1 = fig.add_subplot(1,3,2)\n",
    "ax2 = fig.add_subplot(1,3,3)\n",
    "\n",
    "#sub-plot1 - box plot\n",
    "df3['FirstQuartileWeeklyRent'].plot(kind = 'box', color = 'blue', figsize = (20,6), ax = ax0)\n",
    "ax0.set_title(\"First Quartile Weekly Rent\")\n",
    "\n",
    "df3['MedianWeeklyRent'].plot(kind = 'box', color = 'red', figsize = (20,6), ax = ax1)\n",
    "ax1.set_title(\"Median Weekly Rent\")\n",
    "\n",
    "df3['ThirdQuartileWeeklyRent'].plot(kind = 'box', color = 'lightgreen', figsize = (20,6), ax = ax2)\n",
    "ax2.set_title(\"Third Quartile Weekly Rent\")\n",
    "\n",
    "minimum_FirstQuartileWeeklyRent = np.round(np.median(df3['FirstQuartileWeeklyRent']), 2)\n",
    "print('Median for FirstQuartileWeeklyRent : %s' % minimum_FirstQuartileWeeklyRent)\n",
    "minimum_MedianWeeklyRent = np.round(np.median(df3['MedianWeeklyRent']), 2)\n",
    "print('Median for MedianWeeklyRent : %s' % minimum_MedianWeeklyRent)\n",
    "minimum_ThirdQuartileWeeklyRent = np.round(np.median(df3['ThirdQuartileWeeklyRent']), 2)\n",
    "print('Median for ThirdQuartileWeeklyRent : %s' % minimum_ThirdQuartileWeeklyRent)\n",
    "print()\n",
    "maximum_FirstQuartileWeeklyRent = np.round(df3['FirstQuartileWeeklyRent'].quantile(0.75), 2)\n",
    "print('75th percentile for FirstQuartileWeeklyRent : %s' % maximum_FirstQuartileWeeklyRent)\n",
    "maximum_MedianWeeklyRent = np.round(df3['MedianWeeklyRent'].quantile(0.75), 2)\n",
    "print('75th percentile for MedianWeeklyRent : %s' % maximum_MedianWeeklyRent)\n",
    "maximum_ThirdQuartileWeeklyRent = np.round(df3['ThirdQuartileWeeklyRent'].quantile(0.75), 2)\n",
    "print('75th percentile for ThirdQuartileWeeklyRent : %s' % maximum_ThirdQuartileWeeklyRent)\n",
    "print()"
   ]
  },
  {
   "cell_type": "markdown",
   "metadata": {},
   "source": [
    "#### As we can see from the above plots, the median rents for every quartile are displayed. We wish that our ideal property rent will be above this median and below the 75th quartile."
   ]
  },
  {
   "cell_type": "markdown",
   "metadata": {},
   "source": [
    "#### Let's now plot the total number of bonds lodged in each suburb"
   ]
  },
  {
   "cell_type": "code",
   "execution_count": 22,
   "metadata": {},
   "outputs": [
    {
     "data": {
      "image/png": "[encoded data removed]",
      "text/plain": [
       "<Figure size 432x288 with 1 Axes>"
      ]
     },
     "metadata": {
      "needs_background": "light"
     },
     "output_type": "display_data"
    },
    {
     "name": "stdout",
     "output_type": "stream",
     "text": [
      "Suburbs with maximum number of total bonds lodged (>35000) : \n",
      "casula\n",
      "chipping norton\n",
      "constitution hill\n",
      "girraween\n",
      "greystanes\n",
      "hammondville\n",
      "liverpool\n",
      "lurnea\n",
      "moorebank\n",
      "mount pritchard\n",
      "pemulwuy\n",
      "pendle hill\n",
      "prestons\n",
      "south wentworthville\n",
      "warwick farm\n",
      "wentworthville\n",
      "westmead\n"
     ]
    }
   ],
   "source": [
    "df2['TotalBondsHeld'] = df2['TotalBondsHeld'].replace(',','', regex=True)\n",
    "df2['TotalBondsHeld'] = df2['TotalBondsHeld'].astype(np.int64)\n",
    "plot_dict = {}\n",
    "for index, row in df2.iterrows():\n",
    "    suburb = df2.iloc[index]['Suburb']\n",
    "    total = df2.loc[df2['Suburb'] == suburb, 'TotalBondsHeld'].sum()\n",
    "    plot_dict.update({suburb : total})\n",
    "    \n",
    "x = plot_dict.keys()\n",
    "y = plot_dict.values()\n",
    "\n",
    "plt.scatter(x, y, color='orange')\n",
    "plt.xticks('')\n",
    "plt.xlabel(\"Sydney Suburbs\")\n",
    "plt.ylabel(\"Total Bonds Held\")\n",
    "plt.show()\n",
    "list1 = []\n",
    "print(\"Suburbs with maximum number of total bonds lodged (>35000) : \")\n",
    "for i,j in zip(x,y):\n",
    "    if j>35000:\n",
    "        list1.append(i)\n",
    "        print(i)"
   ]
  },
  {
   "cell_type": "markdown",
   "metadata": {},
   "source": [
    "#### Let's now plot the number of new bonds lodged in each suburb"
   ]
  },
  {
   "cell_type": "code",
   "execution_count": 23,
   "metadata": {},
   "outputs": [
    {
     "data": {
      "image/png": "[encoded data removed]",
      "text/plain": [
       "<Figure size 432x288 with 1 Axes>"
      ]
     },
     "metadata": {
      "needs_background": "light"
     },
     "output_type": "display_data"
    },
    {
     "name": "stdout",
     "output_type": "stream",
     "text": [
      "Suburbs with maximum number of new bonds lodged (>4000) : \n",
      "constitution hill\n",
      "darlinghurst\n",
      "girraween\n",
      "greystanes\n",
      "pemulwuy\n",
      "pendle hill\n",
      "south wentworthville\n",
      "surry hills\n",
      "wentworthville\n",
      "westmead\n"
     ]
    }
   ],
   "source": [
    "df2['NewBondsLodged'] = df2['NewBondsLodged'].replace(',','', regex=True)\n",
    "df2['NewBondsLodged'] = df2['NewBondsLodged'].astype(np.int64)\n",
    "plot_dict = {}\n",
    "for index, row in df2.iterrows():\n",
    "    suburb = df2.iloc[index]['Suburb']\n",
    "    total = df2.loc[df2['Suburb'] == suburb, 'NewBondsLodged'].sum()\n",
    "    plot_dict.update({suburb : total})\n",
    "    \n",
    "x = plot_dict.keys()\n",
    "y = plot_dict.values()\n",
    "\n",
    "plt.scatter(x, y, color='lightgreen')\n",
    "plt.xticks('')\n",
    "plt.xlabel(\"Sydney Suburbs\")\n",
    "plt.ylabel(\"New Bonds Lodged\")\n",
    "plt.show()\n",
    "list2 = []\n",
    "print(\"Suburbs with maximum number of new bonds lodged (>4000) : \")\n",
    "for i,j in zip(x,y):\n",
    "    if j>4000:\n",
    "        list2.append(i)\n",
    "        print(i)"
   ]
  },
  {
   "cell_type": "markdown",
   "metadata": {},
   "source": [
    "#### Let's now plot the annual change in weekly rent in each suburb"
   ]
  },
  {
   "cell_type": "code",
   "execution_count": 24,
   "metadata": {},
   "outputs": [
    {
     "data": {
      "image/png": "[encoded data removed]",
      "text/plain": [
       "<Figure size 432x288 with 1 Axes>"
      ]
     },
     "metadata": {
      "needs_background": "light"
     },
     "output_type": "display_data"
    },
    {
     "name": "stdout",
     "output_type": "stream",
     "text": [
      "Suburbs with maximum positive change(increase) in annual rent(>10%) : \n",
      "bonnet bay\n",
      "carramar\n",
      "como\n",
      "hunters hill\n",
      "jannali\n",
      "londonderry\n",
      "richmond\n",
      "st peters\n",
      "sydenham\n",
      "tempe\n",
      "villawood\n"
     ]
    }
   ],
   "source": [
    "plot_dict = {}\n",
    "for index, row in df2.iterrows():\n",
    "    suburb = df2.iloc[index]['Suburb']\n",
    "    meanOfChange = df2.loc[df2['Suburb'] == suburb, 'AnnualChangeInWeeklyRent'].mean()\n",
    "    plot_dict.update({suburb : meanOfChange})\n",
    "    \n",
    "x = plot_dict.keys()\n",
    "y = plot_dict.values()\n",
    "\n",
    "plt.scatter(x, y, color='red')\n",
    "plt.xticks('')\n",
    "plt.xlabel(\"Sydney Suburbs\")\n",
    "plt.ylabel(\"Annual Change In Weekly Rent\")\n",
    "plt.show()\n",
    "list3 = []\n",
    "print(\"Suburbs with maximum positive change(increase) in annual rent(>10%) : \")\n",
    "for i,j in zip(x,y):\n",
    "    if j>10.0:\n",
    "        list3.append(i)\n",
    "        print(i)"
   ]
  },
  {
   "cell_type": "markdown",
   "metadata": {},
   "source": [
    "#### A negative change in the above plot implies that the rent has reduced by that percentage which is not desirable by the owner. On the other hand, a positive change implies that the rent has increased annually, which was actually accepted by the tenants. This is a sign of profit to the owner, hence we will consider positive change only."
   ]
  },
  {
   "cell_type": "markdown",
   "metadata": {},
   "source": [
    "## Results and Discussion"
   ]
  },
  {
   "cell_type": "code",
   "execution_count": 26,
   "metadata": {},
   "outputs": [],
   "source": [
    "all_suburbs = list1+list2+list3\n",
    "df4 = pd.DataFrame(columns=['Suburb', 'FirstQuartileWeeklyRent', 'MedianWeeklyRent', 'ThirdQuartileWeeklyRent', 'TrainStationPresent'])\n",
    "df4['Suburb'] = all_suburbs\n",
    "for index, row in df4.iterrows():\n",
    "    suburb = df4.iloc[index]['Suburb']\n",
    "    df4.iloc[index]['FirstQuartileWeeklyRent'] = df2.loc[df2['Suburb'] == suburb, 'FirstQuartileWeeklyRent'].mean()\n",
    "    df4.iloc[index]['MedianWeeklyRent'] = df2.loc[df2['Suburb'] == suburb, 'MedianWeeklyRent'].mean()\n",
    "    df4.iloc[index]['ThirdQuartileWeeklyRent'] = df2.loc[df2['Suburb'] == suburb, 'ThirdQuartileWeeklyRent'].mean()\n",
    "    df4.iloc[index]['TrainStationPresent'] = df2.loc[df2['Suburb'] == suburb, 'TrainStationPresent'].any()\n",
    "    #df4.iloc[index]['Woolworths'] = df2.loc[df2['Suburb'] == suburb, 'Woolworths'].any()\n",
    "    #df4.iloc[index]['Coles'] = df2.loc[df2['Suburb'] == suburb, 'Coles'].any()"
   ]
  },
  {
   "cell_type": "markdown",
   "metadata": {},
   "source": [
    "#### Remove suburbs which do not have weekly rents falling between 50th percentile and 75th percentile from the box plots "
   ]
  },
  {
   "cell_type": "code",
   "execution_count": 27,
   "metadata": {},
   "outputs": [
    {
     "name": "stdout",
     "output_type": "stream",
     "text": [
      "['wentworthville', 'girraween', 'greystanes', 'pemulwuy', 'south wentworthville', 'pendle hill', 'constitution hill', 'westmead']\n"
     ]
    }
   ],
   "source": [
    "first_quartile_suburbs = []\n",
    "median_quartile_suburbs = []\n",
    "third_quartile_suburbs = []\n",
    "\n",
    "for index, row in df4.iterrows():\n",
    "    suburb = df4.iloc[index]['Suburb']\n",
    "    if df4.iloc[index]['FirstQuartileWeeklyRent']>=minimum_FirstQuartileWeeklyRent and df4.iloc[index]['FirstQuartileWeeklyRent']<=maximum_FirstQuartileWeeklyRent:\n",
    "        first_quartile_suburbs.append(suburb)\n",
    "    if df4.iloc[index]['MedianWeeklyRent']>=minimum_FirstQuartileWeeklyRent and df4.iloc[index]['MedianWeeklyRent']<=maximum_FirstQuartileWeeklyRent:\n",
    "        median_quartile_suburbs.append(suburb)\n",
    "    if df4.iloc[index]['ThirdQuartileWeeklyRent']>=minimum_FirstQuartileWeeklyRent and df4.iloc[index]['ThirdQuartileWeeklyRent']<=maximum_FirstQuartileWeeklyRent:\n",
    "        third_quartile_suburbs.append(suburb)\n",
    "\n",
    "df5 = pd.DataFrame(columns=['Suburb', 'FirstQuartileWeeklyRent', 'MedianWeeklyRent', 'ThirdQuartileWeeklyRent', 'TrainStationPresent'])\n",
    "common_suburbs = list(set(median_quartile_suburbs) & set(third_quartile_suburbs))\n",
    "print(common_suburbs)\n",
    "df4.drop_duplicates(subset =\"Suburb\", keep = 'first', inplace = True)\n",
    "df4 = df4.reset_index()\n",
    "for index, row in df4.iterrows():\n",
    "    suburb = df4.iloc[index]['Suburb']\n",
    "    if suburb in common_suburbs:\n",
    "        df5 = df5.append(row, ignore_index = True)\n",
    "        \n",
    "df5 = df5.drop(columns=['index'])"
   ]
  },
  {
   "cell_type": "markdown",
   "metadata": {},
   "source": [
    "#### Get supermarkets(woolworths or coles, if present) in filtered suburbs using FourSquare API"
   ]
  },
  {
   "cell_type": "code",
   "execution_count": 31,
   "metadata": {},
   "outputs": [
    {
     "name": "stdout",
     "output_type": "stream",
     "text": [
      "Requirement already satisfied: geopy in /home/jupyterlab/conda/envs/python/lib/python3.6/site-packages (2.1.0)\n",
      "Requirement already satisfied: geographiclib<2,>=1.49 in /home/jupyterlab/conda/envs/python/lib/python3.6/site-packages (from geopy) (1.50)\n"
     ]
    },
    {
     "name": "stderr",
     "output_type": "stream",
     "text": [
      "/home/jupyterlab/conda/envs/python/lib/python3.6/site-packages/ipykernel_launcher.py:42: FutureWarning: pandas.io.json.json_normalize is deprecated, use pandas.json_normalize instead\n"
     ]
    },
    {
     "data": {
      "text/html": [
       "<div>\n",
       "<style scoped>\n",
       "    .dataframe tbody tr th:only-of-type {\n",
       "        vertical-align: middle;\n",
       "    }\n",
       "\n",
       "    .dataframe tbody tr th {\n",
       "        vertical-align: top;\n",
       "    }\n",
       "\n",
       "    .dataframe thead th {\n",
       "        text-align: right;\n",
       "    }\n",
       "</style>\n",
       "<table border=\"1\" class=\"dataframe\">\n",
       "  <thead>\n",
       "    <tr style=\"text-align: right;\">\n",
       "      <th></th>\n",
       "      <th>Suburb</th>\n",
       "      <th>FirstQuartileWeeklyRent</th>\n",
       "      <th>MedianWeeklyRent</th>\n",
       "      <th>ThirdQuartileWeeklyRent</th>\n",
       "      <th>TrainStationPresent</th>\n",
       "      <th>Woolworths</th>\n",
       "      <th>Coles</th>\n",
       "    </tr>\n",
       "  </thead>\n",
       "  <tbody>\n",
       "    <tr>\n",
       "      <th>0</th>\n",
       "      <td>constitution hill</td>\n",
       "      <td>406.736842</td>\n",
       "      <td>455.157895</td>\n",
       "      <td>502.473684</td>\n",
       "      <td>False</td>\n",
       "      <td>0</td>\n",
       "      <td>0</td>\n",
       "    </tr>\n",
       "    <tr>\n",
       "      <th>1</th>\n",
       "      <td>girraween</td>\n",
       "      <td>406.736842</td>\n",
       "      <td>455.157895</td>\n",
       "      <td>502.473684</td>\n",
       "      <td>False</td>\n",
       "      <td>0</td>\n",
       "      <td>0</td>\n",
       "    </tr>\n",
       "    <tr>\n",
       "      <th>2</th>\n",
       "      <td>greystanes</td>\n",
       "      <td>406.736842</td>\n",
       "      <td>455.157895</td>\n",
       "      <td>502.473684</td>\n",
       "      <td>False</td>\n",
       "      <td>1</td>\n",
       "      <td>0</td>\n",
       "    </tr>\n",
       "    <tr>\n",
       "      <th>3</th>\n",
       "      <td>pemulwuy</td>\n",
       "      <td>406.736842</td>\n",
       "      <td>455.157895</td>\n",
       "      <td>502.473684</td>\n",
       "      <td>False</td>\n",
       "      <td>1</td>\n",
       "      <td>0</td>\n",
       "    </tr>\n",
       "    <tr>\n",
       "      <th>4</th>\n",
       "      <td>pendle hill</td>\n",
       "      <td>406.736842</td>\n",
       "      <td>455.157895</td>\n",
       "      <td>502.473684</td>\n",
       "      <td>True</td>\n",
       "      <td>0</td>\n",
       "      <td>0</td>\n",
       "    </tr>\n",
       "    <tr>\n",
       "      <th>5</th>\n",
       "      <td>south wentworthville</td>\n",
       "      <td>406.736842</td>\n",
       "      <td>455.157895</td>\n",
       "      <td>502.473684</td>\n",
       "      <td>False</td>\n",
       "      <td>1</td>\n",
       "      <td>0</td>\n",
       "    </tr>\n",
       "    <tr>\n",
       "      <th>6</th>\n",
       "      <td>wentworthville</td>\n",
       "      <td>406.736842</td>\n",
       "      <td>455.157895</td>\n",
       "      <td>502.473684</td>\n",
       "      <td>True</td>\n",
       "      <td>1</td>\n",
       "      <td>1</td>\n",
       "    </tr>\n",
       "    <tr>\n",
       "      <th>7</th>\n",
       "      <td>westmead</td>\n",
       "      <td>406.736842</td>\n",
       "      <td>455.157895</td>\n",
       "      <td>502.473684</td>\n",
       "      <td>True</td>\n",
       "      <td>0</td>\n",
       "      <td>1</td>\n",
       "    </tr>\n",
       "  </tbody>\n",
       "</table>\n",
       "</div>"
      ],
      "text/plain": [
       "                 Suburb  FirstQuartileWeeklyRent  MedianWeeklyRent  \\\n",
       "0     constitution hill               406.736842        455.157895   \n",
       "1             girraween               406.736842        455.157895   \n",
       "2            greystanes               406.736842        455.157895   \n",
       "3              pemulwuy               406.736842        455.157895   \n",
       "4           pendle hill               406.736842        455.157895   \n",
       "5  south wentworthville               406.736842        455.157895   \n",
       "6        wentworthville               406.736842        455.157895   \n",
       "7              westmead               406.736842        455.157895   \n",
       "\n",
       "   ThirdQuartileWeeklyRent TrainStationPresent Woolworths Coles  \n",
       "0               502.473684               False          0     0  \n",
       "1               502.473684               False          0     0  \n",
       "2               502.473684               False          1     0  \n",
       "3               502.473684               False          1     0  \n",
       "4               502.473684                True          0     0  \n",
       "5               502.473684               False          1     0  \n",
       "6               502.473684                True          1     1  \n",
       "7               502.473684                True          0     1  "
      ]
     },
     "execution_count": 31,
     "metadata": {},
     "output_type": "execute_result"
    }
   ],
   "source": [
    "!pip install geopy\n",
    "from geopy.geocoders import Nominatim # module to convert an address into latitude and longitude values\n",
    "\n",
    "# libraries for displaying images\n",
    "from IPython.display import Image \n",
    "from IPython.core.display import HTML \n",
    "    \n",
    "# tranforming json file into a pandas dataframe library\n",
    "from pandas.io.json import json_normalize\n",
    "\n",
    "CLIENT_ID = 'LE5X4S455AHFUXDAZJ4FKFYUMKWCGFYBYQFA3ALMBZKMGCGC' # your Foursquare ID\n",
    "CLIENT_SECRET = 'OLQXUUHLXVEMB2KI4UL3X4UPGMCTADCNW1XXO3S0RIHN1QRI' # your Foursquare Secret\n",
    "VERSION = '20180604'\n",
    "LIMIT = 30\n",
    "\n",
    "woolworths_column = pd.DataFrame(columns=['Woolworths'])\n",
    "df5 = df5.append(woolworths_column)\n",
    "\n",
    "coles_column = pd.DataFrame(columns=['Coles'])\n",
    "df5 = df5.append(coles_column)\n",
    "\n",
    "for index, row in df5.iterrows():\n",
    "    suburb = df5.iloc[index]['Suburb']\n",
    "    #postcode = df2.iloc[index]['PostCode']\n",
    "    #address = suburb+', '+str(postcode)+', '+' NSW'\n",
    "    address = suburb+', '+'NSW'\n",
    "\n",
    "    geolocator = Nominatim(user_agent=\"foursquare_agent\")\n",
    "    location = geolocator.geocode(address)\n",
    "    latitude = location.latitude\n",
    "    longitude = location.longitude\n",
    "\n",
    "    search_query = ['Woolworths', 'Coles']\n",
    "    for query in search_query:\n",
    "        radius = 1000\n",
    "        url = 'https://api.foursquare.com/v2/venues/search?client_id={}&client_secret={}&ll={},{}&oauth_token={}&v={}&query={}&radius={}&limit={}'.format(CLIENT_ID, CLIENT_SECRET, latitude, longitude,ACCESS_TOKEN, VERSION, query, radius, LIMIT)\n",
    "        results = requests.get(url).json()\n",
    "        #print(results)\n",
    "        if len(results['response']) != 0:\n",
    "            venues = results['response']['venues']\n",
    "            dataframe = json_normalize(venues)\n",
    "\n",
    "            if dataframe.empty == False:\n",
    "                filtered_columns = ['name', 'categories'] + [col for col in dataframe.columns if col.startswith('location.')] + ['id']\n",
    "                dataframe_filtered = dataframe.loc[:, filtered_columns]\n",
    "\n",
    "                # function that extracts the category of the venue\n",
    "                def get_category_type(row):\n",
    "                    try:\n",
    "                        categories_list = row['categories']\n",
    "                    except:\n",
    "                        categories_list = row['venue.categories']\n",
    "\n",
    "                    if len(categories_list) == 0:\n",
    "                        return None\n",
    "                    else:\n",
    "                        return categories_list[0]['name']\n",
    "\n",
    "                # filter the category for each row\n",
    "                dataframe_filtered['categories'] = dataframe_filtered.apply(get_category_type, axis=1)\n",
    "\n",
    "                # clean column names by keeping only last term\n",
    "                dataframe_filtered.columns = [column.split('.')[-1] for column in dataframe_filtered.columns]\n",
    "                if dataframe_filtered.name.any() == \"Woolworths\":\n",
    "                    #print(\"WYes\")\n",
    "                    df5.loc[df5['Suburb'] == suburb, 'Woolworths'] = 1\n",
    "                if dataframe_filtered.name.any() == \"Coles\":\n",
    "                    #print(\"CYes\")\n",
    "                    df5.loc[df5['Suburb'] == suburb, 'Coles'] = 1\n",
    "            else:\n",
    "                if query == 'Woolworths':\n",
    "                    #print(\"WNo\")\n",
    "                    df5.loc[df5['Suburb'] == suburb, 'Woolworths'] = 0\n",
    "                elif query == 'Coles':\n",
    "                    #print(\"CNo\")\n",
    "                    df5.loc[df5['Suburb'] == suburb, 'Coles'] = 0\n",
    "                    \n",
    "df5.head(10)"
   ]
  },
  {
   "cell_type": "markdown",
   "metadata": {},
   "source": [
    "#### To summarize the capstone, we have initially started off with collecting relevant and required data for choosing an ideal suburb. We then chose our main features to be weekly rent in each quartile of the year, total bonds lodged and change in annual rent (whether positive or negative). Upon obtaining a few common suburbs satisfying the conditions for ideal suburb, we then moved to filter the suburbs further based on amenities such as close-by train stations and supermarkets."
   ]
  },
  {
   "cell_type": "markdown",
   "metadata": {},
   "source": [
    "## Conclusion"
   ]
  },
  {
   "cell_type": "markdown",
   "metadata": {},
   "source": [
    "#### From the above dataframe, we can observe that there are 8 suburbs which satisfy the good profit weekly rent for first, median and third quartile. Among these, thinking from the tenant's point of view, we can say that most of the tenants prefer residing in suburbs which have easy access to transportation (train stations) and supermarkets so that they do not have to travel long distances to access these amenities. This will be profitable for the owner as more and more people will approach the property for tenancy. Hence, Wentworthville is chosen to be the ideal suburb for property purchase for maximum profit to the owner."
   ]
  }
 ],
 "metadata": {
  "kernelspec": {
   "display_name": "Python",
   "language": "python",
   "name": "conda-env-python-py"
  },
  "language_info": {
   "codemirror_mode": {
    "name": "ipython",
    "version": 3
   },
   "file_extension": ".py",
   "mimetype": "text/x-python",
   "name": "python",
   "nbconvert_exporter": "python",
   "pygments_lexer": "ipython3",
   "version": "3.6.12"
  }
 },
 "nbformat": 4,
 "nbformat_minor": 4
}
